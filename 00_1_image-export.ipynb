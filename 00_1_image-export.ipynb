
        {
            "cells": [
          {
           "cell_type": "markdown",
           "metadata": {},
           
           "source": []
          }
,
          {
           "cell_type": "code",
           "metadata": {},
            "execution_count": null, "outputs": [],
           "source": ["#r \"nuget: Plotly.NET, 3.0.0\"\n",
"#r \"nuget: Plotly.NET.Interactive, 3.0.0\"\n",
"#r \"nuget: Plotly.NET.ImageExport, 3.0.0\"\n"]
          }
,
          {
           "cell_type": "markdown",
           "metadata": {},
           
           "source": ["[![Binder](https://plotly.net/img/badge-binder.svg)](https://mybinder.org/v2/gh/plotly/Plotly.NET/gh-pages?filepath=00_1_image-export.ipynb)\u0026emsp;\n",
"[![Script](https://plotly.net/img/badge-script.svg)](https://plotly.net/00_1_image-export.fsx)\u0026emsp;\n",
"[![Notebook](https://plotly.net/img/badge-notebook.svg)](https://plotly.net/00_1_image-export.ipynb)\n",
"\n",
"# Static image export\n",
"\n",
"### Table of contents\n",
"\n",
"* [Saving static images](#Saving-static-images)\n",
"\n",
"* [Generating URIs for static chart images](#Generating-URIs-for-static-chart-images)\n",
"\n",
"* [Including static images in dotnet interactive notebooks](#Including-static-images-in-dotnet-interactive-notebooks)\n",
"\n",
"As Plotly.NET generates static html pages that contain charts rendered by plotly.js, static image export needs a lot more overhead under the hood\n",
"than you might expect. The underlying renderer needs to execute javascript, leading to the usage of headless browsers.\n",
"\n",
"The package `Plotly.NET.ImageExport` contains extensions for Plotly.NET to render static images. It is designed with extensibility in mind and\n",
"it is very easy to add a new rendering engine. The current engines are provided:\n",
"\n",
"Rendering engine | Type | Prerequisites\n",
"--- | --- | ---\n",
"[PuppeteerSharp](https://github.com/hardkoded/puppeteer-sharp) | headless browser | [read more here](https://github.com/hardkoded/puppeteer-sharp#prerequisites)\n",
"\n",
"\n",
"## Saving static images\n",
"\n",
"By referencing the `Plotly.NET.ImageExport` package, you get access to:\n",
"\n",
"* jpg via `Chart.SaveJPG`\n",
"\n",
"* png via `Chart.SavePNG`\n",
"\n",
"* svg via `Chart.SaveSVG`\n",
"\n",
"(and Extensions for C# style fluent interfaces by opening the `GenericChartExtensions` namespace)\n",
"\n",
"The parameters for all three functions are exactly the same.\n",
"\n"]
          }
,
          {
           "cell_type": "code",
           "metadata": {},
            "execution_count": 3, "outputs": [],
           "source": ["open Plotly.NET\n",
"open Plotly.NET.ImageExport\n",
"\n",
"let exampleChart = \n",
"    Chart.Histogram2DContour(\n",
"        [1.;2.;2.;4.;5.],\n",
"        [1.;2.;2.;4.;5.]\n",
"    )\n"]
          }
,
          {
           "cell_type": "code",
           "metadata": {},
            "execution_count": null, "outputs": [],
           "source": ["exampleChart\n",
"|\u003e Chart.saveJPG(\n",
"    \"/your/path/without/extension/here\",\n",
"    Width=300,\n",
"    Height=300\n",
")\n"]
          }
,
          {
           "cell_type": "code",
           "metadata": {},
            "execution_count": null, "outputs": [
          {
           "data": {
            "text/html": ["\u003cimg",
"",
"    src= \"data:image/jpeg;base64,/9j/4AAQSkZJRgABAQAAAQABAAD/4gIoSUNDX1BST0ZJTEUAAQEAAAIYAAAAAAQwAABtbnRyUkdCIFhZWiAAAAAAAAAAAAAAAABhY3NwAAAAAAAAAAAAAAAAAAAAAAAAAAAAAAAAAAAAAQAA9tYAAQAAAADTLQAAAAAAAAAAAAAAAAAAAAAAAAAAAAAAAAAAAAAAAAAAAAAAAAAAAAAAAAAAAAAAAAAAAAlkZXNjAAAA8AAAAHRyWFlaAAABZAAAABRnWFlaAAABeAAAABRiWFlaAAABjAAAABRyVFJDAAABoAAAAChnVFJDAAABoAAAAChiVFJDAAABoAAAACh3dHB0AAAByAAAABRjcHJ0AAAB3AAAADxtbHVjAAAAAAAAAAEAAAAMZW5VUwAAAFgAAAAcAHMAUgBHAEIAAAAAAAAAAAAAAAAAAAAAAAAAAAAAAAAAAAAAAAAAAAAAAAAAAAAAAAAAAAAAAAAAAAAAAAAAAAAAAAAAAAAAAAAAAAAAAAAAAAAAAAAAAFhZWiAAAAAAAABvogAAOPUAAAOQWFlaIAAAAAAAAGKZAAC3hQAAGNpYWVogAAAAAAAAJKAAAA+EAAC2z3BhcmEAAAAAAAQAAAACZmYAAPKnAAANWQAAE9AAAApbAAAAAAAAAABYWVogAAAAAAAA9tYAAQAAAADTLW1sdWMAAAAAAAAAAQAAAAxlblVTAAAAIAAAABwARwBvAG8AZwBsAGUAIABJAG4AYwAuACAAMgAwADEANv/bAEMAAwICAgICAwICAgMDAwMEBgQEBAQECAYGBQYJCAoKCQgJCQoMDwwKCw4LCQkNEQ0ODxAQERAKDBITEhATDxAQEP/bAEMBAwMDBAMECAQECBALCQsQEBAQEBAQEBAQEBAQEBAQEBAQEBAQEBAQEBAQEBAQEBAQEBAQEBAQEBAQEBAQEBAQEP/AABEIASwBLAMBIgACEQEDEQH/xAAeAAEAAQQDAQEAAAAAAAAAAAAABwUGCAkBBAoDAv/EAFoQAAEDAwEDBAoLCQ4DCQAAAAEAAgMEBREGBxIhExQxQQgVFhkiUWFopuQXIzJSVFZxk7XR0wk4QnJ2gZGUoSQ0VVdiY5KVo6Sx1OHwGFPBJUNGR4SFw8Tx/8QAHAEBAAEFAQEAAAAAAAAAAAAAAAcCAwUGCAQB/8QAQxEAAgECAgUGDAQEBQUAAAAAAAECAxEEBQYhMVHwEhNBYaHRBxUWIlJTcZGisdLhYnKBsjI0wfEUIyVUgjNCVZKT/9oADAMBAAIRAxEAPwDamiIgCIiAIiIAiIgCIiAIiIAiIgCIiAIiIAiIgCIiAIiIAiIgCIiAIiIAiIgCIiAIiIAiIgCIiAIiIAiIgCIiAIiIAiIgCIiAIiIAiIgCIiAIiIAiIgCIiAIiIAiIgCIiAIiIAiIgCIiAIiIAiIgCIiAIiIAiIgCIiAIiIAiIgCIiAIiIAiIgCIiAIiIAiIgCIiAIiIAiIgCIiAIiIAiIgCIiAIiIAiIgCIiAIiIAiIgCIiAIiIAiIgCIiAIiIAiIgCIiAIiIAiIgCIiAIiIAiIgCIiAIiIAiIgCIiAIiIAiIgCIiAIiIAiIgCIiAIiIAiIgCIiAIiIAiIgCIiAIiIAiIgCIiAIiIAiIgCIiAIiIAiIgCIiAIiIAiIgCIiAIiIAiIgCIiAIiIAiIgCIiAIiIAiIgCIiAIiIAiIgCIiAIiIAiIgCozNaaOk1M/RUerLM7UMcPOH2htfEa1sWAd8wb2+G4I44xxCrBzg7uM44ZWNmx2/wBys9+sGmbVtJqr3ea25V41hpWsgohLaXESvkqiYYGVLBywiax875GyMlbuk+C5XIU+Wm9xRKXJaRi/36PzbPTH1FO/R+bZ6Y+orWWinryJyL1HxT+o8XP1N5s079H5tnpj6info/Ns9MfUVrLRPInIvUfFP6hz9TebNO/R+bZ6Y+op36PzbPTH1Fay0TyJyL1HxT+oc/U3mzTv0fm2emPqKd+j82z0x9RWstE8ici9R8U/qHP1N5s079H5tnpj6info/Ns9MfUVrLRPInIvUfFP6hz9TebNO/R+bZ6Y+op36PzbPTH1FayiccSqtbbJJUHfnjBxxLHHDWDqL/L4m/7FupobkNNf9D4p/Ue3A4bFZhU5uibHe/StOSOxsJA6SNYZA/uK5H3aRrhlvY2gjyay9RWB0GkK90LDyNQN4eADJHDn8Vh4/0lSbtpaWKUsnp38rx900Ry/KCPBkC8VPRjIJy5Kop/8p9nnu/6dhs+I0Sx1Kly4yu/Zx2XNhHfo/Ns9MfUU79H5tnpj6itaNVRzUnhP8OPOA8DGD4nD8Er4r3w0MyGauqHxT+o1Cv/AIjDz5urqZta2X/dbvZJ2l6S2d/8P3a7upvtBZeed1fLc25zUMh5Xk+Zt393f3t3ebnGMjpWw5eeTsX/AL5fZJ+XVh+kIV6G1HWm+T4LKMRShgoclSTb1t9PW2XKE5TT5QRdSvutBbOT59PyXK53fBc7OMZ6AfGF1O6qwfD/AOyf9Si3F6S5Ll9aWGxeMpU6kbXjKpCMldXV02mrpprq1nqVKcldJlWRUnuqsHw/+yf9Sd1Vg+H/ANk/6l5/LHRz/wAhQ/8ArT+o+8zU9F+4qyL40lXT11O2qpZN+J+d12CM4ODwPlC+yz9GtTxNONajJShJJpp3TT1pprU01rTW0oaadmERFcPgREQBERAEREAREQBERAEREB5l0RF1QYoIiIAiIgCIiAIi71rtr62VjywFhPgtd0Ox0k/yR1+Po+WipNQV+OONp6sHg6uOrKjSWtnYstqfUytmeMYAc3IyGDqcR1k/gj8/yS9o7RjpHMe+N7HMdglrQ5zHEZDWjofMRx8TQf6XS0XpV0j2TPJbgCTlHMzuAnAkI63u9zGz9h6sitmuz1lXDT1lZSxbk0Tn0VJM72mOnzl9RUOHumnpI/DJxkjwlEununFHIcNKKl5z44/sTfkGSUsropW18cfL8Nq2zZ8yeiM0NvD43DD3Q2p9c08fw5TxlPjDMgdRICt2/wChITTZjjp+byO3QWvLqV784DePhU8meGOjJwMnoyxg0LBPDTyVJgfJVNBpXXG5TUk87SQGmKOIbtO0nAYXeE44B48Ta2rNFujkldKPbnP5o91WwBzZCBilrWsy14cCNyYDGC0DO8OV57yXwrSqY9rl7Xx7eNV9RnaVehXk6cbcdn6LV+m3CDU2lJaR8juTc3dPJv5VvhMPVHKOgg5GHjxjxjej24299FI5zWObGHbrmnpid4j5D1H5PIsr9ZaXa4AQwO3nCSKGObBeHNzylHKckOxxLXZPAHiRkvgXVNnipnOexpfDyW+ze6XwfhMd17zCfl/OSuqdF9JKecUFJPzuOO92vqmk+jtLGUnUgta6eONm9Hc7F/75fZJ+XVh+kIV6G155+xngNL2T+yincd7c11YC13vmmvhwf9+Jehhav4R5crE0H+F/MiOlTlRlKnPamRntovGobT2n7Q263VXK845XndS+Hdxye7u7rHZzk5zjoHSoy7sNoXxe07/Wc/2Cvvb/AKm0/p3tD29vNJQc451yXLyhm/u8lvYz043h+lRF7Jmz7442n9ZauB/CXgHW0pxU+Y5V+RrtLX/lw3OxImS5dha+BhUqLW79PWy4u7DaF8XtO/1nP9gndhtC+L2nf6zn+wVu+yZs++ONp/WWp7Jmz7442n9ZatE8Vv8A23ZPvMp4pwW7tZkrs2rLjX6Kt1XdaengqpOW5SOnldJG3ErwMOc1pPADqHHKuZWNs6r5L9sto63R94t/K1EVSKOtlgdVU7ZBNI3edGySMyNDgctD2k4IyF99kF7v+odndqu2qLhFXXSV1SypqIqcQMkcyokZlsYJ3BhowMk46STkns/RanyMhwSta1KkrbvMRG2OjGni6lOOxSlb9GXkig7Vm07UsGvLvNUt1fatGaQrKalrrjZae0y0r3ujjlldW86c+qETRLGMU0ILRvuMhziOcAQ4BzSCDxBHWs/KDik30nkjJS2HKIioKgiIgCIiAIiIAiIgCs32VdLv2mw7KaaO4VF3koZ66WoipiaODkjFvQvmJA5YiZjuTbvENILt0OZvXhIwyRujD3MLgRvN6R5R5VCOn9huo9G7UdH3W1a81PddP2iguzakV7bUA2Wd8Dgx5ipY5pTK4Pe+Qlzy6MEvG84PuU1F35TKJuStY0DoiLqQxoREQBERAEXBOOlVa02OetkaZIifCADN0uweoEDpd4m/pVqrWjSV2e3AZfXzGqqVFfY69utkta9r3N9rxvYJwHDxk9TfL19SlXR+iZppGulh6C0YMZOCfcgsHEn3sQ48cuwu9onQk1RNE/kZHvdJhu4GveXjpDc+C5463e4j4+JZBaU0fSafgjlljjdVNaQ0NJcyEHpDSeLifwnnwnHPQOAi/SvTOGBi6GHd5vjj3bybNGtFqeAgna8ul8cdp0NMaDit9veawGOeVj9xm8HOic5u6ZHuHB0uOHDwWjDW8Bkydo650743NqeSp3TxUNNMJT7XT1FNIXtjk6PaZd7AI4cT77hQ18ZIpmS87opmw1G5yZL2b8crPeSMyN9vE8MgjJwRkrnzSLCTz+lJVpec+nt/obrXwUZ0+TH+/HFtVsjbVr6goKG800kdla67ZdWx3eobHLSFzNwslYR+6YcZ3A0gO4tyM7wjnXVwpKmlmohNM0T2uCgZLWHdmFJC5xdW1BdjcJy7cacOzkkDwxHYB11cLNRfup90o4qUEtDG09VHFnpMM02HRjxB/AcAB0KLtY7TKut5SAcpQ0z3c4fAJc1VS4YxLUSuGWAboxniMcBljSI60Z8GGLqZjenHpWvX0bPl0fc1nD5TSwNaVV3u+O/d1LdU9c6ioKqqq6zLmRyVzK14IO9G1sTY42YODysm6HbnS0Ow7BIzj7rG4xGTAa0yRcuXNaeHKyu3uTB693HHxcPEV2dTa4kmIjglIAB5PkxgNB6eSB6M5OZXcTk46RiNLpe5KlxZTvHQW77D4LB1hh6yet3X1eTtHQzRZ5LQipvXbu7l2dDMdn+kGHwNFpvzuH89f2eqQOxwex/ZRbJWsO8IdbafiLvGRcIc/wCOF6E154+xeAHZLbJABwGubD9IQr0OLFeEaPIxFBfhfzIaVZ4ipOq+lkKdkj/4d/8AV/8AwqFFI3ZhtuDu5HmN6rbf+/8Af5tyfh/vfGd9jujj0Y6SscOT1B8db1/d/slyXpfk9XFZzWrRmknydt/QitxOOiEKjyai4rV5375Ekoo25PUHx1vX93+yTk9QfHW9f3f7Ja35P1/Tj29xsnNVfR7UZv7LaOouGySgoaS61Vsmniqo46ylbE6aBxnkw9glY+MuHSN9jh4wV+tPbJTp7RT9ER7RtX1VPzxlZDWumpKergAmEzomPpqeIGN7g7eDmuJa9zcgYA6vY6ioGxzT4qq2arl/de9NNu77v3VLjO6AOA4cB1KSF0DksZUMtw9K+yEOyKOfs6j/AKliL+nP9zLD1DsgtGob7WXV+pL9Q0N3dA+82eklgFFdHRABpm34nSsy1rGu5GSPfa0B28FfYAAwBgBcosk5OWpmNSS2BERUn0IiIAiIgCIiAIiIAiIgPMuiIuqDFBERAEAc5wY1pc5xwAOklcsY+R7Y42lz3nDQOsq59P6dMpMhbyngF7iOgtHT8jB+lx4eRefEYiNCLk3sMvlGUVs1q8mGqPSz4WDTs1XURZjfJLI7EbY2lxJ8TQBx8rvzNBJU1aJ2a1MlTFRRUD66vcCOawHDYW9fKvzhjeIyAckkbzsEAXFoHZ/BQNMbY9+tc6KCeUO3XOmk4MgjI4saAQXuHHB4fycitC6Ht5gjtdFSRTwSzyQMjI3GVkkRIlkmx7mniO83cyd4gg5yN/nbwh+E/wAWU5U8O7df9X3bFbXs1TTlmS4fJ6CSVuPn8tmt2vHendOz2RjBTVFkrKuQCHdiqi1zsf8AdROLRHw/5YIxjiSeKrsFSycvZuvjliO7LDI0tkjdjOHNPRw4jqI4jIOVOlTomaayR1ks1dJba0Mhiqa2CE2+p3sBjHU4G/FE44DH/i5Lst34r1Xpp0E8XNGPhqRJLTUwnfvSRTsaXOopXfhsLQ57H5OAM8RjfgfJNPqec4iUK71t7eLe7aunXZGZyzN6VduFN3S443lEXVuNyo7VSuq62XcYDugAZc9x6GtHSSfEupWakt9FbIri/fcahuYYBjlHuxxbjoGOsngOsqENfbR5amR8rqlriWkM3HFrGsPSGHpDPHJ7qQjwQG4ClvJckxGc1lCkvN6WZfFY2nh4cq5U9fbSJZ5CBLuCNxEUbCHCNw6d3qfIOt58BnuRk7xMJ6g1c+cEulHJucXNAcZGud4xnjK7+W7h1ql6h1JLVzOZkOcQG7uMANHQCOpo6mD5TxKtyR8kshlleXvPS49Kn/IdGsPlVFQpx19L44/Va4j0j0x5EpUcM7y38ce5H3rK+orXO33OaxxyRvZLvxj1/J0BddEW2QpxpqyIxxGJq4qbqVZXZJvYv/fL7JPy6sP0hCvQ2vPJ2L/3y+yT8urD9IQr0NqJPCT/ADVD8r+Zew2xmL3Zt36WydxnJ2ipruW7Y55F8bdzHNunfcOnPV4li93d1PxSuPz9P9osluzqmii7iOVlYzPbLG84DP72WKfO6X4TF/TCg3Mcsw+IxMqlRa3bp6kdA6GQvkdB8pr+Ld6cuoq3d3U/FK4/P0/2id3dT8Urj8/T/aKk87pfhMX9MJzul+Exf0wvF4lwnov3s2jm/wAb7O4z97HlkOq+x+skFdBX0UVfFXRSMhrH09RG3nczctmgeHsdwyHMeCM9IKqGxass+mdjtmfc7pFRUVPNU04qK6r6zWysYHSyuy5znFoy4lznEdJKpXY3W20ag7Haw2m72+juVurYq+GopqmJs0M8ZrJw5j2OBa5p6CCCFfdo2Z7N9P2ifT9h2f6attrqZ2VU1FR2mCGnlnYWlkjo2MDXPaWMIcRkbrcdAW5YWMaWHhSWxJdisc457FrNcS16c/3Mj3aNobRurNeU1LpfS1C7XLa2huNw1MynBqbLSwvYQ3nHu2OljYY2QNcA4Pe5zd0uLpnVpXrZFsn1Jenak1Fsw0ldbu4sc6vrbLTT1JLAAwmV7C7gAMceGArsAAGAMAK/OXKSS6DFRjZtnKIitlYREQBERAEREAREQBRrQ6l2l2baJZ9LasrtMXSl1BFXTx09pt1RT1FsihwWySySTyNnYd9kZcI4fDc3A47okpRnofZztD0vqy46ivOutN3ll3qHSV0p01UQ3CSEb3IQNqDXPjjjiDsBrYA0+E7G+9zzchazuUSvdWPPGiIupDGhcEgDJXLWve8Rxsc97uhrRklVejtDYi2Ws9skJ8CJoyM+L+Uf2f4qhz6F9l7T3YLL62OlaC1b+NpxY6Avk5WcFjZGkk9BbEOLj5M8AphsllZS2t0c8e5NVx+2gDBYMeCwfig/pyVaulLI+ouDTUNB3C2acdIaB7hn53cT48HyKQ1r2Pnzk3TexbeOLXt0E4aL5PDAYbzlx08dbReejdQbxMk0zYZ3SQulfu5bT1keOTlI/wCU8AAnqAA4eERPOj9XQUJ5yJG0YpaiSbMg3m0UspJljm99Tykudv4GCc8MDcxUilnppm1VK9rZWgtw4ZY9p6WuHWCrz0xreSKWJkb546iBpDGMkHOYG9YYXeDPFkDwXcRw6w1o598IPg/8YRlUpq6fHG/9WjYqtNTjyJ8ffj8uX9TrWeGxx0UkdbFbaINmhp62aLtdTbuCx7qgO35omnBZH5GghoDdyINoWu4bfGyrjdJPVSTSz0EcrN2Wqq5Guaap7T7hgaXtYwgeDnOAMssXu2pWBrqSK385Y7fZze0ytna/rc2OQ8nG88cvPA8VDu0TaMBPUQ0tTy1bJllVU75k5IHHtbXdL3kAZPDgAAGjAbGuhPgoqPHrlR1X16re37v367MxdLC4fLIOpGy939OFt2Hz1trVsEb6GOqbNybAyR54tcAfc8OJjB6umR2egdML33UFRWVDwJHOkLsuc4gkHxnqLvIODRwC+d5vk1XK5kTyDk5dnO6cYOCOl2OGegDgPGqMAAMBdmZFkdHK6EadNbOnjj9dkaaTaVSrt4bCvUtr7uO0f/vHrXKItjSSVkR83fWwiIvoJN7F/wC+X2Sfl1YfpCFehteeTsX/AL5fZJ+XVh+kIV6G1EPhJ/mqH5X8z2YbYzC/7o1RUdZ7HvO6SGfc7bbvKRh2M80zjPyBYX9pbN/BNF8wz6ll1905uN0t/sbdrZ4I+U7cb/Kwl+cczxjDhjpKwZ7otT/DqH9Td9osLlWV4jE4SFWnG6d+lb2TzofOCyWinC/8W705dZdnaWzfwTRfMM+pO0tm/gmi+YZ9StPui1P8Oof1N32id0Wp/h1D+pu+0WQ8SYv0F713mzcun6v9vebVuxUutj0l2LOmrvdJ4bfbaCO4SSv3MNYOf1HANaMkknAaASSQACSpZ0nrXT2tqSorLBUVR5pNzepp62gqKGqp5N0ODZaeoYyWMlrmuG80Za4EZBBWOOwaivuoewp0bU01M+vrKG5ds5aeliO/PDTXySWRkbA7LncnGcNzlxAA4nCk/TN/qafUGtdqMOkdUTWm7TWm30NL2mnp66oMY5OSo5rO2OVkbXTAFz2g7sTnDLcZ0zE0XCrUjLapNdtjnnO5f6piLKy5c/3Mu+87VdDWDUA0zdLnVMrA+GOaSK21U1JSvlOI21FVHG6Cnc7IwJXsJ3m++GbtWNW0iwX2bXmqhQ2zVouN3rrU+gtNHapaiwX2GARESVtQI3RwSB4ka8maBxZDCCJG4DslBnHHpXnqQUUmukxkZNtpnKIitFYREQBERAEREAREQBERAeZdfejopq15bF4LW+6eRwHk8pXXwSQ0HBcQ0HxZOMq66anjjdT0UXgMe/cyOkDBJPynH6SupZO910Lb+uxLjvV3JssWPqXnsTStvbPxbrbu5goIgXdEkr+gfKes+QfsVxWiyPlmMdDHy9RjEk7x4Mfynq/FHE/tXds1thq62K2gmKFkbpHbnAlrSBug9WS7ienp6zkSJpix0FdUS0b4mspKJrDyDeHKF2cZx+DwP4xzngCDgc3zZZfB2Wte5N7uvrf2JkyrJKdFK23Z/bd7dpR7RQUtupeRp5BKS4ulkyMuf15x0dQx1ABd5XVeNN22eldNSwwUU8LMslYwMbgfgvx0t/w6QrJnutLSUEdfVExtka0tZjLi4jO6B1n6ieha/l+Yxx6eq0lt6dvWbTZYdcmVkl7juLr10lDHBv3B8TYmnOZCBg9RHl8WOKtC8azrmjdgbzUP9wxoD5nDx5Pgt/b8qsu66hqhLvTSudORww7fkA8r3e5HkACzKwVWovOVl1939NvUYHMtIsJgYvl6/bx2OxfGo9ayupzRU1xuJgeDwlneTI3rw0nO74y/gOoccqM7nd5Kt3Jwu3YxkZb0Y6w3r49bjxPyLqVNbPVZEmGtccuaCSXH+U48XL4rJYHK6OFV4RSvt1bftxvvFGf6VVMxbp0NUd/dx3nAAAwFyiLLGmhERAEREBJvYv8A3y+yT8urD9IQr0Nrzydi/wDfL7JPy6sP0hCvQ2oh8JP81Q/K/mezDbGYDfdUrvRWr2MOdmUcr263dyJz+jmWc4Bx0hYDd11m99Vfqsn1LOb7rZ/5Vf8Avv8A9Ba81smiGXRr5NRqOVr8r98iZtF8VWp5VSjG1vO6PxPrLm7rrN76q/VZPqTuus3vqr9Vk+pWyi2XxRH037jP/wCNr717vubm+wQrIa/sU9D1dPvcm/tnjeaWnhcqodB49Sn1Yx9hPqa26P7CjRmoLq2d8NP2xa2KBm/LNK+7VLI4o28Mve9zWgEgZcMkDip30Zrmm1gbjSS2K6WK62iZkNfa7nyBqIC9gfG4ugllic17TkFkjusHBBAgDOaTp5jiEtiqTXxMhLNp8rMK7e1zl+5lyorP1ztS0xoC4WO03hldU1t/r4KCngoqcymLlZGxtmmOQ2KIPc1u84jJIDQ48FeCxji0rsx903YIiL4fQiIgCIiAIiIAiIgOHEtaSBkgZx41AOjLpe6as2b62fqK9VVfr241lPeaSquVRNScmaeomY2Gme7kqfkjCxoMTGkje3y4kuM/q1LNsu0Rp/UUuqbVap466R00jGvuFTLTUz5jmZ1PTPkMNO55yXmJjC4k5zk5uQkopplEottWPOC4bwIPWrht1Zz2nB392ohIyR0hw6HfIcf4hW+v1DNLTytngduvb+gjxHyLqGS13tfoa3rjYfcrzB4Crd/wvb3kjW24vkMdXTuEVVTuyWniAesHxtIz/oRwvqzXxtW9tXQTmmroW4cwgEgHpBB90w8OPydBHCIaC4MqiJqaQxTsHFvWPIfG3/fAqswXeneW88zTSsOWyBxAB8YePc/s/Osbj8BTxkLytr1Xex+3c1xuUxZVnkKkFdrX7n1p9D49kq3vUldNROdd5oYqVnuooGu9uPUDkkkH3o/OSo5vN4lkkdXVIzK/LIIQeDB4v+rj/oF16q7wZbJPXyVkrR7Wwy8oRnxDoHy/tVAuVxMINVUEPmf4MbAeA8g8g6z/AKBebK8po4CLcbL2a7fr0vcuguZxnUKNNu/be3W/6I+N0uLqXJ3hJVTcckdA8fkA6h/qqASSS5xLnOOST0krmSSSaR0srt57zkn/AH1LhZuMelr2dX33kMZnmM8fVvfzVs731hERVmNCIiAIiIAiIgJN7F/75fZJ+XVh+kIV6G155Oxf++X2Sfl1YfpCFehtRD4Sf5qh+V/M9mG2M1wfdhm73sSeHI3Hb/3Ly3+D/EVrg5L+en+ef9a2J/dlrhLQ+xBycLZN/ugzvOxjHa/yHxrWp2/qfgcXzp+pbloU6HiKhy43fndF/wDvl1GzYPNMNhqEaVSdmr9D3+wrHJfz0/zz/rTkv56f55/1qj9v6n4HF86fqTt/U/A4vnT9S2m+G9D4fsenx3g/Wdj7jct2IWmbpqbsCdA0dkiFTX0NfUXSnglkA5w6lv08/Jb78gF4jLQTwBIzgcVNmn4te0l01ZtJGzyqirr5NbKOjsNZcqSOpZTQeBJPLLFJLCCOVleGNe4lsbRwc7Aj37nBUOquww2eTvYGF3bbIByBi61YWSy5yzuaWZ4mKWrnJ/ufca3iHGtWlUi9TbfzIP2o7DNR3i4P1DpPXuqOc3PUlouNbQhtqMMMNPUREuZJNSmbdiY1z2xmVzd4uw128QZvAIABJOOs9a5RYqU3JJPoLaiottBERUFQREQBERAEREAREQBERAeZdFs07y55yfod68neXPOT9DvXlP3ltkXr/hn9Jj+YqbjWW0uY4PY4tc3iHA4IVSp77IwbtXCZB79mAfzjoWyLvLnnJ+h3ryd5c85P0O9eVPlpkV7xxFn+Wf0nswtfF4N/5T1bug1wyX2BrCKSmcXH3w3Wj5esqlyyyTyGaZ5e93Sf+g8QWzLvLnnJ+h3ryd5c85P0O9eRaaZHe8sRf/hP6SrF4rF4xWqbNy2GstFs07y55yfod68neXPOT9DvXlV5bZF6/wCGf0nh5ipuNZaLZp3lzzk/Q715O8uecn6HevJ5bZF6/wCGf0jmKm41lotmneXPOT9DvXk7y55yfod68nltkXr/AIZ/SOYqbjWWi2ad5c85P0O9eTvLnnJ+h3ryeW2Rev8Ahn9I5ipuNZaLZp3lzzk/Q715O8uecn6HevJ5bZF6/wCGf0jmKm4wY7F/75fZJ+XVh+kIV6G1rx2X/ckfY22l6S2if8QPbHuWvtBeuZ9ynI855tUMm5LlOeO3N7c3d7ddjOcHoWw5RxpvnGCzfEUp4KfKUU09TXT1pHpoQlBPlEZbaexr2KdkN2m9mHRfb/tBzjtd/wBo1dLyHL8nyv73lj3t7kY/dZxu8MZOYy72v2FX8S/pHdv80smkWsUM2x+GpqlQrzjFbEpSSXTsTLrhF62jGXva/YVfxL+kd2/zSd7X7Cr+Jf0ju3+aWTSK749zX/c1P/eXefObhuRbGzXZrorZBoq3bO9ndl7U6etPLczo+czT8lysz5pPbJnPe7Mkj3cXHGcDAACudEWNqVJ1ZupUd29bb1tt7W2V7AiIqAEREAREQBERAEREAREQBERAEREBYu3Csrbfso1JVUFTLTPZSgSTRPLHxQGRomeHAgtxGXnIIxjOQqBs4sVg0dtZ1RpPQloobTpuOxWqtNBboGQ0kVbJJUtc9rGAND3xMiLiBlwa0lSvJHHNG6GaNr43tLXNcMhwPSCOsKk6Y0fpHRNvdadGaWtFgoXyGZ1Na6GKliMhABeWRtA3iAOOM8ArinaDiUON5JlYREVsrChfR+idGS7VYtR7LdKUNltll57De71R07Yu31ZKcOpzIPCqhE8Oe+V5cGyAMaS4Sbk0K0bTsh2TWC+N1PYtl+krdeGPfI240lkpoakPfnfcJWsD8nJyc8clXIS5KZTKN2i7kRFbKgsadvdw11ValtVXedneqJLPZNW2QWOWguFvbRVLjVRb80rXVjJXyO3nRsZJEGM4uJy7ebksutX2y23WKOC6W+mrI4po6iNk8TZGsljcHMeA4HDmuAIPSCAQrlKfNyva5ROPLVjsAkgEgjPUepcoitlYUM7arFd9ca60xoVtw0zHaqi319xkodR2Z9zoLhUQuhDGPp21EAe6Nr3vAc57Rje3N5rXNmZUfU+j9I62t7bTrPS1ov8AQskEzaa6UMVVEJACA8MkaRvAE8cZ4lV05ciVymceUrFJ2TX1upNnNhu7LNRWpklII2UtCAKVjYyYwYMAe0uDd5nD3BaruX4gghpoY6amhZFFE0MjjY0NaxoGAABwAA6l+1TJ3baPqVlYIiL4fQiIgCIiAIiIAiIgCIiAIiIAiIgCIiAIiIAiIgCIiAIiIAiIgCIiAIiIAiIgCIiAIiIAiIgCIiAIiIAiIgCIiAIiIAiIgCIiAIiIAiIgCIiAIiIAiIgCIiAIiIAiIgCIiAIiIAiIgCIiAIiIAiIgCIiAIiIAiIgCIiAIiIAiIgCIiAIiIAiIgCIiAIiIAiIgCIiAIiIAiIgCIiAIiIAiIgCIiAIiIAiIgCIiAIiIAiIgCIiAIiIAiIgCIiAIiIAiIgCIiAIiIAiIgCIiAIiIAiIgCIiAIiIAiIgCIiA//9k=\"",
"",
"/\u003e"]
        },
           "execution_count": null,
           "metadata": {},
           "output_type": "execute_result"
          }],
           "source": ["let imgString = $\"\"\"\u003cimg\n",
"    src= \"{exampleChart|\u003e Chart.toBase64JPGString(Width=300,Height=300)}\"\n",
"/\u003e\"\"\"\n",
"DisplayExtensions.DisplayAs(imgString,\"text/html\")\n"]
          }
,
          {
           "cell_type": "markdown",
           "metadata": {},
           
           "source": ["## Generating URIs for static chart images\n",
"\n",
"By referencing the `Plotly.NET.ImageExport` package, you get access to:\n",
"\n",
"* jpg via `Chart.toBase64JPGString`\n",
"\n",
"* png via `Chart.toBase64PNGString`\n",
"\n",
"* svg via `Chart.toSVGString`\n",
"\n",
"(and Extensions for C# style fluent interfaces by opening the `GenericChartExtensions` namespace)\n",
"\n"]
          }
,
          {
           "cell_type": "code",
           "metadata": {},
            "execution_count": 5, "outputs": [],
           "source": ["let base64JPG =\n",
"    exampleChart\n",
"    |\u003e Chart.toBase64JPGString(\n",
"        Width=300,\n",
"        Height=300\n",
"    )\n"]
          }
,
          {
           "cell_type": "markdown",
           "metadata": {},
           
           "source": ["It is very easy to construct a html tag that includes this image via a base64 uri. For SVGs,\n",
"not even that is necessary and just the SVG string can be used.\n",
"\n"]
          }
,
          {
           "cell_type": "code",
           "metadata": {},
            "execution_count": 6, "outputs": [],
           "source": ["$\"\"\"\u003cimg\n",
"    src= \"{base64JPG}\"\n",
"/\u003e\"\"\"\n"]
          }
,
          {
           "cell_type": "code",
           "metadata": {},
            "execution_count": null, "outputs": [
          {
           "data": {
            "text/html": ["\u003cimg",
"",
"    src= \"data:image/jpeg;base64,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\"",
"",
"/\u003e"]
        },
           "execution_count": null,
           "metadata": {},
           "output_type": "execute_result"
          }],
           "source": ["let imgString = $\"\"\"\u003cimg\n",
"    src= \"{base64JPG}\"\n",
"/\u003e\"\"\"\n",
"DisplayExtensions.DisplayAs(imgString,\"text/html\")\n"]
          }
,
          {
           "cell_type": "markdown",
           "metadata": {},
           
           "source": ["SVGs can be included without the image tag:\n",
"\n"]
          }
,
          {
           "cell_type": "code",
           "metadata": {},
            "execution_count": 7, "outputs": [
          {
           "data": {
            "text/plain": ["\u003csvg class=\"main-svg\" xmlns=\"http://www.w3.org/2000/svg\" xmlns:xlink=\"http://www.w3.org/1999/xlink\" width=\"300\" height=\"300\" style=\"\" viewBox=\"0 0 300 300\"\u003e\u003crect x=\"0\" y=\"0\" width=\"300\" height=\"300\" style=\"fill: rgb(255, 255, 255); fill-opacity: 1;\"/\u003e\u003cdefs id=\"defs-56a57c\"\u003e\u003cg class=\"clips\"\u003e\u003cclipPath"]
        },
           "execution_count": 7,
           "metadata": {},
           "output_type": "execute_result"
          }],
           "source": ["let svgString =\n",
"    exampleChart\n",
"    |\u003e Chart.toSVGString(\n",
"        Width=300,\n",
"        Height=300\n",
"    )\n",
"\n",
"svgString.Substring(0,300)\n",
"|\u003e printfn \"%s\"\n"]
          }
,
          {
           "cell_type": "markdown",
           "metadata": {},
           
           "source": ["In fact, the images shown on this site are included just the same way.\n",
"\n",
"## Including static images in dotnet interactive notebooks\n",
"\n",
"To include the images in dotnet interactive, convert them to html tags as above and include them via\n",
"dotnet interactive\u0027s `DisplayAs` function. The content type for PNG/JPG is \"text/html\", and \"image/svg+xml\" for SVG.\n",
"\n"]
          }
,
          {
           "cell_type": "code",
           "metadata": {},
            "execution_count": 8, "outputs": [],
           "source": ["let base64PNGTag =\n",
"    let base64 =\n",
"        exampleChart\n",
"        |\u003e Chart.toBase64PNGString(\n",
"            Width=300,\n",
"            Height=300\n",
"        )\n",
"    $\"\"\"\u003cimg src= \"{base64JPG}\"/\u003e\"\"\"\n",
"\n",
"let svgString2 =\n",
"    exampleChart\n",
"    |\u003e Chart.toSVGString(\n",
"        Width=300,\n",
"        Height=300\n",
"    )\n",
"\n",
"// DisplayExtensions.DisplayAs(base64PNG,\"text/html\")\n",
"// DisplayExtensions.DisplayAs(svgString2,\"image/svg+xml\")\n"]
          }
,
          {
           "cell_type": "code",
           "metadata": {},
            "execution_count": null, "outputs": [],
           "source": ["DisplayExtensions.DisplayAs(base64PNG,\"text/html\")\n",
"DisplayExtensions.DisplayAs(svgString,\"image/svg+xml\")\n"]
          }],
            "metadata": {
            "kernelspec": {"display_name": ".NET (F#)", "language": "F#", "name": ".net-fsharp"},
            "langauge_info": {
        "file_extension": ".fs",
        "mimetype": "text/x-fsharp",
        "name": "C#",
        "pygments_lexer": "fsharp",
        "version": "4.5"
        }
        },
            "nbformat": 4,
            "nbformat_minor": 1
        }
        

