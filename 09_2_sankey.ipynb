
        {
            "cells": [
          {
           "cell_type": "markdown",
           "metadata": {},
           
           "source": []
          }
,
          {
           "cell_type": "code",
           "metadata": {},
            "execution_count": null, "outputs": [],
           "source": ["#r \"nuget: Plotly.NET, 3.0.0\"\n",
"#r \"nuget: Plotly.NET.Interactive, 3.0.0\"\n"]
          }
,
          {
           "cell_type": "markdown",
           "metadata": {},
           
           "source": ["# Sankey charts\n",
"\n",
"[![Binder](https://plotly.net/img/badge-binder.svg)](https://mybinder.org/v2/gh/plotly/Plotly.NET/gh-pages?filepath=09_2_sankey.ipynb)\u0026emsp;\n",
"[![Script](https://plotly.net/img/badge-script.svg)](https://plotly.net/09_2_sankey.fsx)\u0026emsp;\n",
"[![Notebook](https://plotly.net/img/badge-notebook.svg)](https://plotly.net/09_2_sankey.ipynb)\n",
"\n",
"**Summary:** This example shows how to create sankey charts in F#.\n",
"\n",
"Sankey charts are a visualization of multiple, linked graphs layed out linearly.\n",
"These are usually used to depict flow between nodes or stations.\n",
"To create Sankey, a set of nodes and links between them are required.\n",
"These are created using the provided Node and Link structures.\n",
"\n"]
          }
,
          {
           "cell_type": "code",
           "metadata": {},
            "execution_count": 3, "outputs": [],
           "source": ["open Plotly.NET\n",
"\n",
"let sankey1 = \n",
"    Chart.Sankey(\n",
"        nodeLabels = [\"A1\"; \"A2\"; \"B1\"; \"B2\"; \"C1\"; \"C2\"; \"D1\"],\n",
"        linkedNodeIds = [ // Edgelist, toupling sourceIndex =\u003e targetIndex of the link\n",
"            0,2\n",
"            0,3\n",
"            1,3\n",
"            2,4\n",
"            3,4\n",
"            3,5\n",
"            4,6\n",
"            5,6\n",
"        ],\n",
"        NodeOutlineColor = Color.fromKeyword Black,\n",
"        NodeOutlineWidth = 1.,\n",
"        linkValues = [8; 4; 2; 7; 3; 2; 5; 2],\n",
"        LinkColor = Color.fromColors [\n",
"            Color.fromHex \"#828BFB\"\n",
"            Color.fromHex \"#828BFB\"\n",
"            Color.fromHex \"#F27762\"\n",
"            Color.fromHex \"#33D6AB\"\n",
"            Color.fromHex \"#BC82FB\"\n",
"            Color.fromHex \"#BC82FB\"\n",
"            Color.fromHex \"#FFB47B\"\n",
"            Color.fromHex \"#47DCF5\"\n",
"        ],\n",
"        LinkOutlineColor = Color.fromKeyword Black,\n",
"        LinkOutlineWidth = 1.,\n",
"        UseDefaults = false\n",
"    )\n"]
          }
,
          {
           "cell_type": "code",
           "metadata": {},
            "execution_count": null, "outputs": [
          {
           "data": {
            "text/html": ["\u003cdiv id=\"e38b2de0-a96d-474e-a120-43b090b58993\"\u003e\u003c!-- Plotly chart will be drawn inside this DIV --\u003e\u003c/div\u003e",
"",
"\u003cscript type=\"text/javascript\"\u003e",
"",
"",
"",
"            var renderPlotly_e38b2de0a96d474ea12043b090b58993 = function() {",
"",
"            var fsharpPlotlyRequire = requirejs.config({context:\u0027fsharp-plotly\u0027,paths:{plotly:\u0027https://cdn.plot.ly/plotly-2.6.3.min\u0027}}) || require;",
"",
"            fsharpPlotlyRequire([\u0027plotly\u0027], function(Plotly) {",
"",
"",
"",
"            var data = [{\"type\":\"sankey\",\"node\":{\"label\":[\"A1\",\"A2\",\"B1\",\"B2\",\"C1\",\"C2\",\"D1\"],\"line\":{\"color\":\"rgba(0, 0, 0, 1.0)\",\"width\":1.0}},\"link\":{\"color\":[\"rgba(130, 139, 251, 1.0)\",\"rgba(130, 139, 251, 1.0)\",\"rgba(242, 119, 98, 1.0)\",\"rgba(51, 214, 171, 1.0)\",\"rgba(188, 130, 251, 1.0)\",\"rgba(188, 130, 251, 1.0)\",\"rgba(255, 180, 123, 1.0)\",\"rgba(71, 220, 245, 1.0)\"],\"line\":{\"color\":\"rgba(0, 0, 0, 1.0)\",\"width\":1.0},\"source\":[0,0,1,2,3,3,4,5],\"target\":[2,3,3,4,4,5,6,6],\"value\":[8,4,2,7,3,2,5,2]}}];",
"",
"            var layout = {};",
"",
"            var config = {};",
"",
"            Plotly.newPlot(\u0027e38b2de0-a96d-474e-a120-43b090b58993\u0027, data, layout, config);",
"",
"});",
"",
"            };",
"",
"            if ((typeof(requirejs) !==  typeof(Function)) || (typeof(requirejs.config) !== typeof(Function))) {",
"",
"                var script = document.createElement(\"script\");",
"",
"                script.setAttribute(\"src\", \"https://cdnjs.cloudflare.com/ajax/libs/require.js/2.3.6/require.min.js\");",
"",
"                script.onload = function(){",
"",
"                    renderPlotly_e38b2de0a96d474ea12043b090b58993();",
"",
"                };",
"",
"                document.getElementsByTagName(\"head\")[0].appendChild(script);",
"",
"            }",
"",
"            else {",
"",
"                renderPlotly_e38b2de0a96d474ea12043b090b58993();",
"",
"            }",
"",
"\u003c/script\u003e",
"",
""]
        },
           "execution_count": null,
           "metadata": {},
           "output_type": "execute_result"
          }],
           "source": ["sankey1\n"]
          }],
            "metadata": {
            "kernelspec": {"display_name": ".NET (F#)", "language": "F#", "name": ".net-fsharp"},
            "langauge_info": {
        "file_extension": ".fs",
        "mimetype": "text/x-fsharp",
        "name": "C#",
        "pygments_lexer": "fsharp",
        "version": "4.5"
        }
        },
            "nbformat": 4,
            "nbformat_minor": 1
        }
        

