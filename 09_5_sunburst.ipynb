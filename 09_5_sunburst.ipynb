
        {
            "cells": [
          {
           "cell_type": "markdown",
           "metadata": {},
           
           "source": []
          }
,
          {
           "cell_type": "code",
           "metadata": {},
            "execution_count": null, "outputs": [],
           "source": ["#r \"nuget: Plotly.NET, 3.0.0\"\n",
"#r \"nuget: Plotly.NET.Interactive, 3.0.0\"\n"]
          }
,
          {
           "cell_type": "markdown",
           "metadata": {},
           
           "source": ["# Sunburst charts\n",
"\n",
"[![Binder](https://plotly.net/img/badge-binder.svg)](https://mybinder.org/v2/gh/plotly/Plotly.NET/gh-pages?filepath=09_5_sunburst.ipynb)\u0026emsp;\n",
"[![Script](https://plotly.net/img/badge-script.svg)](https://plotly.net/09_5_sunburst.fsx)\u0026emsp;\n",
"[![Notebook](https://plotly.net/img/badge-notebook.svg)](https://plotly.net/09_5_sunburst.ipynb)\n",
"\n",
"**Summary:** This example shows how to create sunburst charts in F#.\n",
"\n",
"Sunburst Chart � also known as Ring Chart, Multi-level Pie Chart, and Radial Treemap � is typically used to visualize hierarchical data structures.\n",
"A Sunburst Chart consists of an inner circle surrounded by rings of deeper hierarchy levels.\n",
"The angle of each segment is either proportional to a value or divided equally under its parent node.\n",
"\n",
"## Simple sunburst plot\n",
"\n"]
          }
,
          {
           "cell_type": "code",
           "metadata": {},
            "execution_count": 3, "outputs": [],
           "source": ["open Plotly.NET \n",
"\n",
"let values = [19; 26; 55;]\n",
"let labels = [\"Residential\"; \"Non-Residential\"; \"Utility\"]\n",
"\n",
"let sunburstChart =\n",
"    Chart.Sunburst(\n",
"        [\"A\";\"B\";\"C\";\"D\";\"E\"],\n",
"        [\"\";\"\";\"B\";\"B\";\"\"],\n",
"        Values=[5.;0.;3.;2.;3.],\n",
"        MultiText=[\"At\";\"Bt\";\"Ct\";\"Dt\";\"Et\"]\n",
"    )\n"]
          }
,
          {
           "cell_type": "markdown",
           "metadata": {},
           
           "source": ["## More styled example\n",
"\n",
"This example shows the usage of some of the styling possibility using `Chart.Sunburst`.\n",
"For even more styling control, use the respective TraceStyle function `TraceDomainStyle.Sunburst`\n",
"\n"]
          }
,
          {
           "cell_type": "code",
           "metadata": {},
            "execution_count": 4, "outputs": [],
           "source": ["let sunburstStyled = \n",
"    let labelsParents = [\n",
"        (\"A\",\"\"), 20\n",
"        (\"B\",\"\"), 1\n",
"        (\"C\",\"\"), 2\n",
"        (\"D\",\"\"), 3\n",
"        (\"E\",\"\"), 4\n",
"\n",
"        (\"AA\",\"A\"), 15\n",
"        (\"AB\",\"A\"), 5\n",
"\n",
"        (\"BA\",\"B\"), 1\n",
"\n",
"        (\"AAA\", \"AA\"), 10\n",
"        (\"AAB\", \"AA\"), 5\n",
"    ]\n",
"\n",
"    Chart.Sunburst(\n",
"        labelsParents |\u003e Seq.map fst,\n",
"        Values = (labelsParents |\u003e Seq.map snd), \n",
"        BranchValues = StyleParam.BranchValues.Total, // branch values are the total of their childrens values\n",
"        SectionColorScale = StyleParam.Colorscale.Viridis,\n",
"        ShowSectionColorScale = true,\n",
"        SectionOutlineColor = Color.fromKeyword Black,\n",
"        Rotation = 45,\n",
"        UseDefaults = false\n",
"    )\n"]
          }
,
          {
           "cell_type": "code",
           "metadata": {},
            "execution_count": null, "outputs": [
          {
           "data": {
            "text/html": ["\u003cdiv id=\"70253464-d10d-491d-9e65-b9c2c10a330e\"\u003e\u003c!-- Plotly chart will be drawn inside this DIV --\u003e\u003c/div\u003e",
"",
"\u003cscript type=\"text/javascript\"\u003e",
"",
"",
"",
"            var renderPlotly_70253464d10d491d9e65b9c2c10a330e = function() {",
"",
"            var fsharpPlotlyRequire = requirejs.config({context:\u0027fsharp-plotly\u0027,paths:{plotly:\u0027https://cdn.plot.ly/plotly-2.6.3.min\u0027}}) || require;",
"",
"            fsharpPlotlyRequire([\u0027plotly\u0027], function(Plotly) {",
"",
"",
"",
"            var data = [{\"type\":\"sunburst\",\"parents\":[\"\",\"\",\"\",\"\",\"\",\"A\",\"A\",\"B\",\"AA\",\"AA\"],\"values\":[20,1,2,3,4,15,5,1,10,5],\"labels\":[\"A\",\"B\",\"C\",\"D\",\"E\",\"AA\",\"AB\",\"BA\",\"AAA\",\"AAB\"],\"marker\":{\"colorscale\":\"Viridis\",\"line\":{\"color\":\"rgba(0, 0, 0, 1.0)\"},\"showscale\":true},\"branchvalues\":\"total\",\"rotation\":45}];",
"",
"            var layout = {};",
"",
"            var config = {};",
"",
"            Plotly.newPlot(\u002770253464-d10d-491d-9e65-b9c2c10a330e\u0027, data, layout, config);",
"",
"});",
"",
"            };",
"",
"            if ((typeof(requirejs) !==  typeof(Function)) || (typeof(requirejs.config) !== typeof(Function))) {",
"",
"                var script = document.createElement(\"script\");",
"",
"                script.setAttribute(\"src\", \"https://cdnjs.cloudflare.com/ajax/libs/require.js/2.3.6/require.min.js\");",
"",
"                script.onload = function(){",
"",
"                    renderPlotly_70253464d10d491d9e65b9c2c10a330e();",
"",
"                };",
"",
"                document.getElementsByTagName(\"head\")[0].appendChild(script);",
"",
"            }",
"",
"            else {",
"",
"                renderPlotly_70253464d10d491d9e65b9c2c10a330e();",
"",
"            }",
"",
"\u003c/script\u003e",
"",
""]
        },
           "execution_count": null,
           "metadata": {},
           "output_type": "execute_result"
          }],
           "source": ["sunburstStyled\n",
"    \n"]
          }],
            "metadata": {
            "kernelspec": {"display_name": ".NET (F#)", "language": "F#", "name": ".net-fsharp"},
            "langauge_info": {
        "file_extension": ".fs",
        "mimetype": "text/x-fsharp",
        "name": "C#",
        "pygments_lexer": "fsharp",
        "version": "4.5"
        }
        },
            "nbformat": 4,
            "nbformat_minor": 1
        }
        

