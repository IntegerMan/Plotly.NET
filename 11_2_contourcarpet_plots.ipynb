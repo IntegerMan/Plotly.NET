
        {
            "cells": [
          {
           "cell_type": "markdown",
           "metadata": {},
           
           "source": []
          }
,
          {
           "cell_type": "code",
           "metadata": {},
            "execution_count": null, "outputs": [],
           "source": ["#r \"nuget: Plotly.NET, 3.0.0\"\n",
"#r \"nuget: Plotly.NET.Interactive, 3.0.0\"\n"]
          }
,
          {
           "cell_type": "markdown",
           "metadata": {},
           
           "source": ["# Contour carpet charts\n",
"\n",
"[![Binder](https://plotly.net/img/badge-binder.svg)](https://mybinder.org/v2/gh/plotly/Plotly.NET/gh-pages?filepath=11_2_contourcarpet_plots.ipynb)\u0026emsp;\n",
"[![Script](https://plotly.net/img/badge-script.svg)](https://plotly.net/11_2_contourcarpet_plots.fsx)\u0026emsp;\n",
"[![Notebook](https://plotly.net/img/badge-notebook.svg)](https://plotly.net/11_2_contourcarpet_plots.ipynb)\n",
"\n",
"**Summary:** This example shows how to create contour plots on carpets in F#.\n",
"\n"]
          }
,
          {
           "cell_type": "code",
           "metadata": {},
            "execution_count": 3, "outputs": [],
           "source": ["open Plotly.NET\n",
"open Plotly.NET.LayoutObjects\n",
"\n",
"let contourCarpet = \n",
"    [\n",
"        Chart.Carpet(\n",
"            \"contour\",\n",
"            A = [0.; 1.; 2.; 3.; 0.; 1.; 2.; 3.; 0.; 1.; 2.; 3.],\n",
"            B = [4.; 4.; 4.; 4.; 5.; 5.; 5.; 5.; 6.; 6.; 6.; 6.],\n",
"            X = [2.; 3.; 4.; 5.; 2.2; 3.1; 4.1; 5.1; 1.5; 2.5; 3.5; 4.5],\n",
"            Y = [1.; 1.4; 1.6; 1.75; 2.; 2.5; 2.7; 2.75; 3.; 3.5; 3.7; 3.75],\n",
"            AAxis = LinearAxis.initCarpet(\n",
"                TickPrefix = \"a = \",\n",
"                Smoothing = 0.,\n",
"                MinorGridCount = 9,\n",
"                AxisType = StyleParam.AxisType.Linear\n",
"            ),\n",
"            BAxis = LinearAxis.initCarpet(\n",
"                TickPrefix = \"b = \",\n",
"                Smoothing = 0.,\n",
"                MinorGridCount = 9,\n",
"                AxisType = StyleParam.AxisType.Linear\n",
"            ), \n",
"            UseDefaults = false,\n",
"            Opacity = 0.75\n",
"        )    \n",
"        Chart.ContourCarpet(\n",
"            [1.; 1.96; 2.56; 3.0625; 4.; 5.0625; 1.; 7.5625; 9.; 12.25; 15.21; 14.0625],\n",
"            \"contour\",\n",
"            A = [0; 1; 2; 3; 0; 1; 2; 3; 0; 1; 2; 3],\n",
"            B = [4; 4; 4; 4; 5; 5; 5; 5; 6; 6; 6; 6], \n",
"            UseDefaults = false,\n",
"            ContourLineColor = Color.fromKeyword White,\n",
"            ShowContourLabels = true\n",
"        )\n",
"    ]\n",
"    |\u003e Chart.combine\n"]
          }
,
          {
           "cell_type": "code",
           "metadata": {},
            "execution_count": null, "outputs": [
          {
           "data": {
            "text/html": ["\u003cdiv id=\"c5ded268-1606-4f78-acd1-137c812ef13b\"\u003e\u003c!-- Plotly chart will be drawn inside this DIV --\u003e\u003c/div\u003e",
"",
"\u003cscript type=\"text/javascript\"\u003e",
"",
"",
"",
"            var renderPlotly_c5ded26816064f78acd1137c812ef13b = function() {",
"",
"            var fsharpPlotlyRequire = requirejs.config({context:\u0027fsharp-plotly\u0027,paths:{plotly:\u0027https://cdn.plot.ly/plotly-2.6.3.min\u0027}}) || require;",
"",
"            fsharpPlotlyRequire([\u0027plotly\u0027], function(Plotly) {",
"",
"",
"",
"            var data = [{\"type\":\"carpet\",\"opacity\":0.75,\"x\":[2.0,3.0,4.0,5.0,2.2,3.1,4.1,5.1,1.5,2.5,3.5,4.5],\"y\":[1.0,1.4,1.6,1.75,2.0,2.5,2.7,2.75,3.0,3.5,3.7,3.75],\"a\":[0.0,1.0,2.0,3.0,0.0,1.0,2.0,3.0,0.0,1.0,2.0,3.0],\"b\":[4.0,4.0,4.0,4.0,5.0,5.0,5.0,5.0,6.0,6.0,6.0,6.0],\"aaxis\":{\"type\":\"linear\",\"tickprefix\":\"a = \",\"minorgridcount\":9,\"smoothing\":0.0},\"baxis\":{\"type\":\"linear\",\"tickprefix\":\"b = \",\"minorgridcount\":9,\"smoothing\":0.0},\"carpet\":\"contour\"},{\"type\":\"contourcarpet\",\"z\":[1.0,1.96,2.56,3.0625,4.0,5.0625,1.0,7.5625,9.0,12.25,15.21,14.0625],\"a\":[0,1,2,3,0,1,2,3,0,1,2,3],\"b\":[4,4,4,4,5,5,5,5,6,6,6,6],\"line\":{\"color\":\"rgba(255, 255, 255, 1.0)\"},\"carpet\":\"contour\",\"contours\":{\"showlabels\":true}}];",
"",
"            var layout = {};",
"",
"            var config = {};",
"",
"            Plotly.newPlot(\u0027c5ded268-1606-4f78-acd1-137c812ef13b\u0027, data, layout, config);",
"",
"});",
"",
"            };",
"",
"            if ((typeof(requirejs) !==  typeof(Function)) || (typeof(requirejs.config) !== typeof(Function))) {",
"",
"                var script = document.createElement(\"script\");",
"",
"                script.setAttribute(\"src\", \"https://cdnjs.cloudflare.com/ajax/libs/require.js/2.3.6/require.min.js\");",
"",
"                script.onload = function(){",
"",
"                    renderPlotly_c5ded26816064f78acd1137c812ef13b();",
"",
"                };",
"",
"                document.getElementsByTagName(\"head\")[0].appendChild(script);",
"",
"            }",
"",
"            else {",
"",
"                renderPlotly_c5ded26816064f78acd1137c812ef13b();",
"",
"            }",
"",
"\u003c/script\u003e",
"",
""]
        },
           "execution_count": null,
           "metadata": {},
           "output_type": "execute_result"
          }],
           "source": ["contourCarpet\n"]
          }],
            "metadata": {
            "kernelspec": {"display_name": ".NET (F#)", "language": "F#", "name": ".net-fsharp"},
            "langauge_info": {
        "file_extension": ".fs",
        "mimetype": "text/x-fsharp",
        "name": "C#",
        "pygments_lexer": "fsharp",
        "version": "4.5"
        }
        },
            "nbformat": 4,
            "nbformat_minor": 1
        }
        

